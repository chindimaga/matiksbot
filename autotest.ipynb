{
 "cells": [
  {
   "cell_type": "code",
   "execution_count": 30,
   "metadata": {},
   "outputs": [],
   "source": [
    "#importing webdriver from selenium \n",
    "from selenium import webdriver\n",
    "from selenium.webdriver.common.by import By\n",
    "\n",
    "import time, random"
   ]
  },
  {
   "cell_type": "code",
   "execution_count": 31,
   "metadata": {},
   "outputs": [],
   "source": [
    "class Config:\n",
    "    url = \"https://www.matiks.in/\"\n",
    "    botspeed_minmax = (1,3)"
   ]
  },
  {
   "cell_type": "code",
   "execution_count": 32,
   "metadata": {},
   "outputs": [],
   "source": [
    "class MatiksBot:\n",
    "    def __init__(self,url):\n",
    "        self.url = url\n",
    "        self.driver = webdriver.Chrome()\n",
    "        self.driver.get(url)\n",
    "        self.segid = 5\n",
    "        self.started = False\n",
    "\n",
    "    def game_menu(self):\n",
    "        buttons = [\"Play Now\", \"Play as guest\"]\n",
    "        for button in buttons:\n",
    "            self.wait_and_click(button)\n",
    "\n",
    "    def wait_and_click(self,webtext):\n",
    "        while True:\n",
    "            content = self.get_body()\n",
    "            if webtext in content:\n",
    "                self.findtext_and_click(webtext)\n",
    "                break\n",
    "            else:\n",
    "                self.power_nap()    \n",
    "\n",
    "    def power_nap(self):\n",
    "        time.sleep(random.uniform(*Config.botspeed_minmax))\n",
    "\n",
    "    def findtext_and_click(self,webtext):\n",
    "        self.driver.find_element(\"xpath\",f\"//*[contains(text(), '{webtext}')]\").click()\n",
    "\n",
    "    def find_ans(self, content):\n",
    "        clean = content.split('\\n', self.segid)[-1].replace('\\n', '')\n",
    "        expression = clean.replace('÷', '/').replace('×','*')\n",
    "        return str(int(eval(expression)))\n",
    "    \n",
    "    def new_game(self):\n",
    "        self.findtext_and_click('New Game')\n",
    "\n",
    "\n",
    "\n",
    "    def get_body(self):\n",
    "        return self.driver.find_element(By.XPATH, \"/html/body\").text\n",
    "    \n",
    "    def play(self):\n",
    "        while True:\n",
    "            content = self.get_body()\n",
    "            if self.started == False and ('Starting' in content or 'searching' in content):\n",
    "                print(\"detected start\")\n",
    "                self.power_nap()\n",
    "            elif 'New Game' in content or 'solved' in content:\n",
    "                break\n",
    "            else:\n",
    "                if not self.started:\n",
    "                    inputfield = self.driver.find_element(\"xpath\", \"//input[contains(@placeholder,'Please enter your answer here')]\")\n",
    "                self.started = True\n",
    "                # print(f\"Here is the content\\n{content}\")\n",
    "                ans = self.find_ans(content)\n",
    "                print(f\"ans = {ans}\")\n",
    "                inputfield.send_keys(ans)\n",
    "                self.power_nap()\n",
    "\n",
    "    def close(self):\n",
    "        self.driver.close()            \n",
    "\n"
   ]
  },
  {
   "cell_type": "code",
   "execution_count": 33,
   "metadata": {},
   "outputs": [],
   "source": [
    "bot = MatiksBot(Config.url)\n",
    "bot.game_menu()\n",
    "    "
   ]
  },
  {
   "cell_type": "code",
   "execution_count": 34,
   "metadata": {},
   "outputs": [],
   "source": [
    "bot.wait_and_click('PRACTICE')\n",
    "bot.wait_and_click('1 min')\n",
    "bot.wait_and_click('Practice Now')"
   ]
  },
  {
   "cell_type": "code",
   "execution_count": 35,
   "metadata": {},
   "outputs": [
    {
     "name": "stdout",
     "output_type": "stream",
     "text": [
      "ans = 11\n",
      "ans = 5\n",
      "ans = 12\n",
      "ans = 4\n",
      "ans = 48\n",
      "ans = 24\n",
      "ans = 51\n",
      "ans = 50\n",
      "ans = 18\n",
      "ans = 36\n",
      "ans = 24\n",
      "ans = 30\n",
      "ans = 36\n",
      "ans = 39\n",
      "ans = 23\n",
      "ans = 18\n",
      "ans = 118\n",
      "ans = 8\n",
      "ans = 28\n",
      "ans = 5\n",
      "ans = 107\n",
      "ans = 1\n",
      "ans = 99\n",
      "ans = 42\n",
      "ans = 101\n",
      "ans = 145\n",
      "ans = 113\n",
      "ans = 121\n",
      "ans = 43\n"
     ]
    }
   ],
   "source": [
    "bot.play()"
   ]
  },
  {
   "cell_type": "code",
   "execution_count": 26,
   "metadata": {},
   "outputs": [],
   "source": [
    "bot.new_game()"
   ]
  },
  {
   "cell_type": "code",
   "execution_count": 36,
   "metadata": {},
   "outputs": [],
   "source": [
    "bot.close()"
   ]
  },
  {
   "cell_type": "code",
   "execution_count": null,
   "metadata": {},
   "outputs": [],
   "source": []
  }
 ],
 "metadata": {
  "kernelspec": {
   "display_name": "matiksenv",
   "language": "python",
   "name": "python3"
  },
  "language_info": {
   "codemirror_mode": {
    "name": "ipython",
    "version": 3
   },
   "file_extension": ".py",
   "mimetype": "text/x-python",
   "name": "python",
   "nbconvert_exporter": "python",
   "pygments_lexer": "ipython3",
   "version": "3.12.5"
  }
 },
 "nbformat": 4,
 "nbformat_minor": 2
}
