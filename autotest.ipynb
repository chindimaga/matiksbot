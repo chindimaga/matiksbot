{
 "cells": [
  {
   "cell_type": "code",
   "execution_count": 59,
   "metadata": {},
   "outputs": [],
   "source": [
    "from botcode import MatiksBot"
   ]
  },
  {
   "cell_type": "code",
   "execution_count": 60,
   "metadata": {},
   "outputs": [],
   "source": [
    "bot = MatiksBot()\n",
    "bot.game_menu()\n",
    "    "
   ]
  },
  {
   "cell_type": "code",
   "execution_count": 61,
   "metadata": {},
   "outputs": [
    {
     "name": "stdout",
     "output_type": "stream",
     "text": [
      "detected start\n",
      "detected start\n",
      "detected start\n",
      "detected start\n",
      "ans = 9\n",
      "ans = 5\n",
      "ans = 73\n",
      "ans = 24\n",
      "ans = 12\n",
      "ans = 8\n",
      "ans = 5\n",
      "ans = 6\n",
      "ans = 23\n",
      "ans = 5\n",
      "ans = 46\n",
      "ans = 31\n",
      "ans = 15\n",
      "ans = 9\n",
      "ans = 13\n",
      "ans = 28\n",
      "ans = 9\n",
      "ans = 21\n",
      "ans = 97\n",
      "ans = 108\n",
      "ans = 30\n",
      "ans = 110\n",
      "ans = 116\n",
      "ans = 155\n",
      "ans = 56\n",
      "ans = 122\n",
      "ans = 9\n",
      "ans = 122\n",
      "ans = 124\n",
      "ans = 130\n",
      "ans = 87\n",
      "ans = 48\n",
      "ans = 13\n",
      "ans = 98\n",
      "ans = 129\n",
      "ans = 172\n",
      "ans = 98\n",
      "ans = 30\n",
      "ans = 133\n",
      "ans = 74\n",
      "ans = 47\n",
      "ans = 42\n",
      "ans = 245\n",
      "ans = 43\n",
      "ans = 72\n",
      "ans = 468\n",
      "ans = 175\n",
      "ans = 165\n",
      "ans = 330\n",
      "ans = 86\n"
     ]
    }
   ],
   "source": [
    "bot.wait_and_click('PRACTICE')\n",
    "bot.wait_and_click('1 min')\n",
    "bot.wait_and_click('Practice Now')\n",
    "bot.play()"
   ]
  },
  {
   "cell_type": "code",
   "execution_count": 62,
   "metadata": {},
   "outputs": [],
   "source": [
    "bot.new_game()"
   ]
  },
  {
   "cell_type": "code",
   "execution_count": 32,
   "metadata": {},
   "outputs": [],
   "source": [
    "bot.wait_and_click('PLAY NOW')"
   ]
  },
  {
   "cell_type": "code",
   "execution_count": null,
   "metadata": {},
   "outputs": [],
   "source": [
    "bot.wait_and_click('PLAY NOW')"
   ]
  },
  {
   "cell_type": "code",
   "execution_count": 33,
   "metadata": {},
   "outputs": [],
   "source": [
    "bot.wait_and_click('Start Challenge')"
   ]
  },
  {
   "cell_type": "code",
   "execution_count": null,
   "metadata": {},
   "outputs": [],
   "source": [
    "bot.play()"
   ]
  },
  {
   "cell_type": "code",
   "execution_count": null,
   "metadata": {},
   "outputs": [],
   "source": [
    "content = bot.get_body()"
   ]
  },
  {
   "cell_type": "code",
   "execution_count": 29,
   "metadata": {},
   "outputs": [],
   "source": [
    "bot.close()"
   ]
  },
  {
   "cell_type": "code",
   "execution_count": 35,
   "metadata": {},
   "outputs": [],
   "source": []
  },
  {
   "cell_type": "code",
   "execution_count": null,
   "metadata": {},
   "outputs": [],
   "source": []
  }
 ],
 "metadata": {
  "kernelspec": {
   "display_name": "matiksenv",
   "language": "python",
   "name": "python3"
  },
  "language_info": {
   "codemirror_mode": {
    "name": "ipython",
    "version": 3
   },
   "file_extension": ".py",
   "mimetype": "text/x-python",
   "name": "python",
   "nbconvert_exporter": "python",
   "pygments_lexer": "ipython3",
   "version": "3.12.5"
  }
 },
 "nbformat": 4,
 "nbformat_minor": 2
}
