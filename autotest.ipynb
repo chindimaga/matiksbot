{
 "cells": [
  {
   "cell_type": "code",
   "execution_count": 1,
   "metadata": {},
   "outputs": [],
   "source": [
    "from botcode import MatiksBot"
   ]
  },
  {
   "cell_type": "code",
   "execution_count": 2,
   "metadata": {},
   "outputs": [],
   "source": [
    "bot = MatiksBot()\n",
    "bot.game_menu()\n",
    "    "
   ]
  },
  {
   "cell_type": "code",
   "execution_count": 3,
   "metadata": {},
   "outputs": [
    {
     "name": "stdout",
     "output_type": "stream",
     "text": [
      "detected start\n",
      "detected start\n",
      "detected start\n",
      "ans = 8\n",
      "ans = 2\n",
      "ans = 50\n",
      "ans = 41\n",
      "ans = 4\n",
      "ans = 72\n",
      "ans = 15\n",
      "ans = 2\n",
      "ans = 9\n",
      "ans = 43\n",
      "ans = 29\n",
      "ans = 4\n",
      "ans = 42\n",
      "ans = 3\n",
      "ans = 12\n",
      "ans = 8\n",
      "ans = 45\n",
      "ans = 32\n",
      "ans = 6\n",
      "ans = 110\n",
      "ans = 24\n",
      "ans = 8\n",
      "ans = 40\n",
      "ans = 5\n",
      "ans = 3\n",
      "ans = 4\n",
      "ans = 133\n",
      "ans = 42\n"
     ]
    }
   ],
   "source": [
    "bot.wait_and_click('PRACTICE')\n",
    "bot.wait_and_click('1 min')\n",
    "bot.wait_and_click('Practice Now')\n",
    "bot.play()"
   ]
  },
  {
   "cell_type": "code",
   "execution_count": 4,
   "metadata": {},
   "outputs": [],
   "source": [
    "bot.new_game()"
   ]
  },
  {
   "cell_type": "code",
   "execution_count": 5,
   "metadata": {},
   "outputs": [],
   "source": [
    "bot.close()"
   ]
  },
  {
   "cell_type": "code",
   "execution_count": null,
   "metadata": {},
   "outputs": [],
   "source": []
  }
 ],
 "metadata": {
  "kernelspec": {
   "display_name": "matiksenv",
   "language": "python",
   "name": "python3"
  },
  "language_info": {
   "codemirror_mode": {
    "name": "ipython",
    "version": 3
   },
   "file_extension": ".py",
   "mimetype": "text/x-python",
   "name": "python",
   "nbconvert_exporter": "python",
   "pygments_lexer": "ipython3",
   "version": "3.12.5"
  }
 },
 "nbformat": 4,
 "nbformat_minor": 2
}
